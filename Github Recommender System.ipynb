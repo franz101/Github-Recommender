{
 "cells": [
  {
   "cell_type": "markdown",
   "metadata": {},
   "source": [
    "## Simple GitHub Recommender System\n",
    "In this notebook we will try to find new repos by looking at the stars from the original repo.\n",
    "At first we will list users who starred the repo and the look at their starred repos. For simplicity we will print the most common repos.\n",
    "\n",
    "Lets get started by importing our modules."
   ]
  },
  {
   "cell_type": "code",
   "execution_count": 108,
   "metadata": {
    "collapsed": true
   },
   "outputs": [],
   "source": [
    "import json\n",
    "import urllib.request, urllib.error, urllib.parse\n",
    "import datetime\n",
    "import time\n",
    "import pandas as pd\n",
    "import random"
   ]
  },
  {
   "cell_type": "markdown",
   "metadata": {},
   "source": [
    "#### 1. Enter Token\n",
    "Get your token from <a href='https://github.com/settings/tokens'>the github settings</a>"
   ]
  },
  {
   "cell_type": "code",
   "execution_count": 132,
   "metadata": {
    "collapsed": true
   },
   "outputs": [],
   "source": [
    "access_token = \"xxx\""
   ]
  },
  {
   "cell_type": "markdown",
   "metadata": {},
   "source": [
    "#### 2. Fetch users who starred the repo of choice\n",
    "The API call goes through the pages of stargazers. It saves their name in a list. At the end the total list of Stargazers is returned.\n",
    "The parameters are repo and limit. The repo will be the source repo which will be matched and the limit is the page limit."
   ]
  },
  {
   "cell_type": "code",
   "execution_count": 91,
   "metadata": {},
   "outputs": [],
   "source": [
    "#Source: fetching stargazers forked by https://github.com/minimaxir/get-profile-data-of-repo-stargazers\n",
    "\n",
    "def get_stargazers(repo, limit = 4):\n",
    "    page_number = 0\n",
    "    stars_remaining = True\n",
    "    list_stars = []\n",
    "    print(\"Gathering Stargazers for %s...\" % repo)\n",
    "    while stars_remaining and page_number < limit:\n",
    "        query_url = \"https://api.github.com/repos/%s/stargazers?page=%s&access_token=%s\" % (repo, page_number, access_token)\n",
    "\n",
    "        req = urllib.request.Request(query_url)\n",
    "        req.add_header('Accept', 'application/vnd.github.v3.star+json')\n",
    "        response = urllib.request.urlopen(req)\n",
    "        data = json.loads(response.read())\n",
    "\n",
    "        for user in data:\n",
    "            username = user['user']['login']\n",
    "            list_stars.append(username)\n",
    "            \n",
    "        if len(data) < 25:\n",
    "            stars_remaining = False\n",
    "\n",
    "        page_number += 1\n",
    "\n",
    "    print((\"Done Gathering Stargazers for %s!\" % repo))    \n",
    "\n",
    "    list_stars = list(set(list_stars)) # remove dupes\n",
    "    \n",
    "    return list_stars"
   ]
  },
  {
   "cell_type": "markdown",
   "metadata": {},
   "source": [
    "#### 3. Fetch repos the users starred\n",
    "Same procedure but this time it create a new list of usernames and what they liked. Also we will shuffle our user sample."
   ]
  },
  {
   "cell_type": "code",
   "execution_count": 116,
   "metadata": {},
   "outputs": [],
   "source": [
    "def get_their_stars(lst,limit=50,rnd=True):\n",
    "    print(\"Looking on %s for starred repos on their GitHub Profiles...\" % str(len(lst)))\n",
    "    allstars = []\n",
    "    random.shuffle(lst)\n",
    "    for username in lst[:limit]:\n",
    "        try:\n",
    "            query_url = \"https://api.github.com/users/%s/starred?access_token=%s\" % (username, access_token)\n",
    "\n",
    "            req = urllib.request.Request(query_url)\n",
    "            response = urllib.request.urlopen(req)\n",
    "            data = json.loads(response.read())\n",
    "            datalist = []\n",
    "            for dat in data:\n",
    "                allstars.append([username, dat['full_name']])\n",
    "            time.sleep(1) # stay within API rate limit of 5000 requests / hour + buffer\n",
    "        except Exception as e:\n",
    "            time.sleep(1)\n",
    "            print(e)\n",
    "    return allstars"
   ]
  },
  {
   "cell_type": "markdown",
   "metadata": {},
   "source": [
    "#### 4. Convert to a DataFrame and display most named repos\n",
    "As said a super simple recommender. No blackbox or voodoo magic :)"
   ]
  },
  {
   "cell_type": "code",
   "execution_count": 129,
   "metadata": {},
   "outputs": [],
   "source": [
    "def get_df(lst, num):\n",
    "    df = pd.DataFrame(lst,columns=['user','repo'])\n",
    "    d0 =  pd.DataFrame(df['repo'].value_counts().head(num),columns=['repo'])[1:]\n",
    "    d0.columns = ['count']\n",
    "    d0['repourl'] = 'https://github.com/' + d0.index.astype(str)\n",
    "    return d0"
   ]
  },
  {
   "cell_type": "markdown",
   "metadata": {},
   "source": [
    "#### 5. Run the script\n",
    "Lets run it with a limit of 50 users :)\n",
    "In my test it took 50 seconds (1 second for a user). It's very slow to make sure not hit the API rate limit."
   ]
  },
  {
   "cell_type": "code",
   "execution_count": 118,
   "metadata": {
    "collapsed": true
   },
   "outputs": [
    {
     "name": "stdout",
     "output_type": "stream",
     "text": [
      "Gathering Stargazers for facebook/prophet...\n",
      "Done Gathering Stargazers for facebook/prophet!\n",
      "Looking on 60 for starred repos on their GitHub Profiles...\n"
     ]
    },
    {
     "data": {
      "text/html": [
       "<div>\n",
       "<style>\n",
       "    .dataframe thead tr:only-child th {\n",
       "        text-align: right;\n",
       "    }\n",
       "\n",
       "    .dataframe thead th {\n",
       "        text-align: left;\n",
       "    }\n",
       "\n",
       "    .dataframe tbody tr th {\n",
       "        vertical-align: top;\n",
       "    }\n",
       "</style>\n",
       "<table border=\"1\" class=\"dataframe\">\n",
       "  <thead>\n",
       "    <tr style=\"text-align: right;\">\n",
       "      <th></th>\n",
       "      <th>repo</th>\n",
       "    </tr>\n",
       "  </thead>\n",
       "  <tbody>\n",
       "    <tr>\n",
       "      <th>facebook/prophet</th>\n",
       "      <td>12</td>\n",
       "    </tr>\n",
       "    <tr>\n",
       "      <th>dnouri/skorch</th>\n",
       "      <td>5</td>\n",
       "    </tr>\n",
       "    <tr>\n",
       "      <th>aksnzhy/xlearn</th>\n",
       "      <td>4</td>\n",
       "    </tr>\n",
       "    <tr>\n",
       "      <th>lmcinnes/umap</th>\n",
       "      <td>4</td>\n",
       "    </tr>\n",
       "    <tr>\n",
       "      <th>uber/pyro</th>\n",
       "      <td>4</td>\n",
       "    </tr>\n",
       "    <tr>\n",
       "      <th>ricequant/rqalpha</th>\n",
       "      <td>3</td>\n",
       "    </tr>\n",
       "    <tr>\n",
       "      <th>apple/turicreate</th>\n",
       "      <td>3</td>\n",
       "    </tr>\n",
       "    <tr>\n",
       "      <th>Cadene/pretrained-models.pytorch</th>\n",
       "      <td>3</td>\n",
       "    </tr>\n",
       "    <tr>\n",
       "      <th>quantopian/zipline</th>\n",
       "      <td>3</td>\n",
       "    </tr>\n",
       "    <tr>\n",
       "      <th>Microsoft/DMTK</th>\n",
       "      <td>3</td>\n",
       "    </tr>\n",
       "  </tbody>\n",
       "</table>\n",
       "</div>"
      ],
      "text/plain": [
       "                                  repo\n",
       "facebook/prophet                    12\n",
       "dnouri/skorch                        5\n",
       "aksnzhy/xlearn                       4\n",
       "lmcinnes/umap                        4\n",
       "uber/pyro                            4\n",
       "ricequant/rqalpha                    3\n",
       "apple/turicreate                     3\n",
       "Cadene/pretrained-models.pytorch     3\n",
       "quantopian/zipline                   3\n",
       "Microsoft/DMTK                       3"
      ]
     },
     "execution_count": 118,
     "metadata": {},
     "output_type": "execute_result"
    }
   ],
   "source": [
    "stargazers = get_stargazers('facebook/prophet')\n",
    "total_stars = get_their_stars(stargazers,40)\n",
    "get_df(total_stars, 10)"
   ]
  },
  {
   "cell_type": "code",
   "execution_count": 131,
   "metadata": {},
   "outputs": [
    {
     "data": {
      "text/html": [
       "<div>\n",
       "<style>\n",
       "    .dataframe thead tr:only-child th {\n",
       "        text-align: right;\n",
       "    }\n",
       "\n",
       "    .dataframe thead th {\n",
       "        text-align: left;\n",
       "    }\n",
       "\n",
       "    .dataframe tbody tr th {\n",
       "        vertical-align: top;\n",
       "    }\n",
       "</style>\n",
       "<table border=\"1\" class=\"dataframe\">\n",
       "  <thead>\n",
       "    <tr style=\"text-align: right;\">\n",
       "      <th></th>\n",
       "      <th>count</th>\n",
       "      <th>repourl</th>\n",
       "    </tr>\n",
       "  </thead>\n",
       "  <tbody>\n",
       "    <tr>\n",
       "      <th>dnouri/skorch</th>\n",
       "      <td>5</td>\n",
       "      <td>https://github.com/dnouri/skorch</td>\n",
       "    </tr>\n",
       "    <tr>\n",
       "      <th>aksnzhy/xlearn</th>\n",
       "      <td>4</td>\n",
       "      <td>https://github.com/aksnzhy/xlearn</td>\n",
       "    </tr>\n",
       "    <tr>\n",
       "      <th>lmcinnes/umap</th>\n",
       "      <td>4</td>\n",
       "      <td>https://github.com/lmcinnes/umap</td>\n",
       "    </tr>\n",
       "    <tr>\n",
       "      <th>uber/pyro</th>\n",
       "      <td>4</td>\n",
       "      <td>https://github.com/uber/pyro</td>\n",
       "    </tr>\n",
       "    <tr>\n",
       "      <th>ricequant/rqalpha</th>\n",
       "      <td>3</td>\n",
       "      <td>https://github.com/ricequant/rqalpha</td>\n",
       "    </tr>\n",
       "    <tr>\n",
       "      <th>apple/turicreate</th>\n",
       "      <td>3</td>\n",
       "      <td>https://github.com/apple/turicreate</td>\n",
       "    </tr>\n",
       "    <tr>\n",
       "      <th>Cadene/pretrained-models.pytorch</th>\n",
       "      <td>3</td>\n",
       "      <td>https://github.com/Cadene/pretrained-models.py...</td>\n",
       "    </tr>\n",
       "    <tr>\n",
       "      <th>quantopian/zipline</th>\n",
       "      <td>3</td>\n",
       "      <td>https://github.com/quantopian/zipline</td>\n",
       "    </tr>\n",
       "    <tr>\n",
       "      <th>Microsoft/DMTK</th>\n",
       "      <td>3</td>\n",
       "      <td>https://github.com/Microsoft/DMTK</td>\n",
       "    </tr>\n",
       "  </tbody>\n",
       "</table>\n",
       "</div>"
      ],
      "text/plain": [
       "                                  count  \\\n",
       "dnouri/skorch                         5   \n",
       "aksnzhy/xlearn                        4   \n",
       "lmcinnes/umap                         4   \n",
       "uber/pyro                             4   \n",
       "ricequant/rqalpha                     3   \n",
       "apple/turicreate                      3   \n",
       "Cadene/pretrained-models.pytorch      3   \n",
       "quantopian/zipline                    3   \n",
       "Microsoft/DMTK                        3   \n",
       "\n",
       "                                                                            repourl  \n",
       "dnouri/skorch                                      https://github.com/dnouri/skorch  \n",
       "aksnzhy/xlearn                                    https://github.com/aksnzhy/xlearn  \n",
       "lmcinnes/umap                                      https://github.com/lmcinnes/umap  \n",
       "uber/pyro                                              https://github.com/uber/pyro  \n",
       "ricequant/rqalpha                              https://github.com/ricequant/rqalpha  \n",
       "apple/turicreate                                https://github.com/apple/turicreate  \n",
       "Cadene/pretrained-models.pytorch  https://github.com/Cadene/pretrained-models.py...  \n",
       "quantopian/zipline                            https://github.com/quantopian/zipline  \n",
       "Microsoft/DMTK                                    https://github.com/Microsoft/DMTK  "
      ]
     },
     "execution_count": 131,
     "metadata": {},
     "output_type": "execute_result"
    }
   ],
   "source": []
  },
  {
   "cell_type": "markdown",
   "metadata": {},
   "source": [
    "# 🎉🎉🎉🎉"
   ]
  }
 ],
 "metadata": {
  "kernelspec": {
   "display_name": "Python 3",
   "language": "python",
   "name": "python3"
  },
  "language_info": {
   "codemirror_mode": {
    "name": "ipython",
    "version": 3
   },
   "file_extension": ".py",
   "mimetype": "text/x-python",
   "name": "python",
   "nbconvert_exporter": "python",
   "pygments_lexer": "ipython3",
   "version": "3.6.3"
  }
 },
 "nbformat": 4,
 "nbformat_minor": 2
}
